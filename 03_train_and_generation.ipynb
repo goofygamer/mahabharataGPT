{
 "cells": [
  {
   "cell_type": "markdown",
   "metadata": {},
   "source": [
    "# 03_train_and_generation.ipynb\n",
    "I run the `src/train.py` for training the model and `src/generate.py` for generating outputs using our trained GPT model!"
   ]
  },
  {
   "cell_type": "markdown",
   "metadata": {},
   "source": [
    "## 1. Training"
   ]
  },
  {
   "cell_type": "code",
   "execution_count": 1,
   "metadata": {},
   "outputs": [
    {
     "name": "stdout",
     "output_type": "stream",
     "text": [
      "/Users/sankalpyadav/Desktop/QuantProjects/mahabharataGPT/.venv/lib/python3.9/site-packages/urllib3/__init__.py:35: NotOpenSSLWarning: urllib3 v2 only supports OpenSSL 1.1.1+, currently the 'ssl' module is compiled with 'LibreSSL 2.8.3'. See: https://github.com/urllib3/urllib3/issues/3020\n",
      "  warnings.warn(\n",
      "Using device: mps\n",
      "Data file already exists at data/mahabharata.txt\n",
      "Vocabulary size: 83\n",
      "10.80 M parameters\n",
      "\n",
      "Starting training...\n",
      "step 0: train loss 4.6134, val loss 4.6177\n",
      "step 500: train loss 1.9019, val loss 1.9105\n",
      "step 1000: train loss 1.3923, val loss 1.4265\n",
      "step 1500: train loss 1.2034, val loss 1.2572\n",
      "step 2000: train loss 1.1051, val loss 1.1809\n",
      "step 2500: train loss 1.0350, val loss 1.1223\n",
      "step 3000: train loss 0.9834, val loss 1.0888\n",
      "step 3500: train loss 0.9449, val loss 1.0708\n",
      "step 4000: train loss 0.9102, val loss 1.0581\n",
      "step 4500: train loss 0.8774, val loss 1.0345\n",
      "step 4999: train loss 0.8543, val loss 1.0283\n",
      "Training finished.\n",
      "Model saved to checkpoints/mahabharata_gpt.pth\n"
     ]
    }
   ],
   "source": [
    "!python src/train.py --config configs/config.yaml"
   ]
  },
  {
   "cell_type": "markdown",
   "metadata": {},
   "source": [
    "## 2. Generating"
   ]
  },
  {
   "cell_type": "code",
   "execution_count": 9,
   "metadata": {},
   "outputs": [
    {
     "name": "stdout",
     "output_type": "stream",
     "text": [
      "/Users/sankalpyadav/Desktop/QuantProjects/mahabharataGPT/.venv/lib/python3.9/site-packages/urllib3/__init__.py:35: NotOpenSSLWarning: urllib3 v2 only supports OpenSSL 1.1.1+, currently the 'ssl' module is compiled with 'LibreSSL 2.8.3'. See: https://github.com/urllib3/urllib3/issues/3020\n",
      "  warnings.warn(\n",
      "Using device: mps\n",
      "Data file already exists at data/mahabharata.txt\n",
      "Vocabulary size: 83\n",
      "Loading model weights from checkpoints/mahabharata_gpt.pth...\n",
      "\n",
      "Generating text...\n",
      "--------------------------------------------------\n",
      "According to the historical records of this earth, there once lived a King named Maharaja Yudhisthira. He who was a favorite of the King, to be killed by the mighty armed princes. In the Mahabharata King of the Rajasuya sacrifice without the Mahadeva seed. The Personality of Godhead many years in the during the Truth. She said, \"Think that there is no known to the instruction of pacified by the host. Devavrata cannot be have to been killed, because of the Kuru dynasty, the Pandavas approached in battle and many beautiful men and felt all their mother where he decided to the marriage society, then many destroyer unswervants that was a benediction cannot be become sati.\n",
      "Sanjaya said: O Sanjaya, Entitled, the Mahabharata Summation Commanders Duryodhana Charitara. Only a man quarrel, beholding away before Chitrasena and an akshauhini divi's chariot. The earth will exclaim to heavenly roll. Let us go to the holy planets and the sage qualified brahmana.\n",
      "Smiling sweetly engaged in the assembly holy blood of Ghatotkacha and his wife. Preed for some time, Duhshasana, and Alambhusha all spoke, \"I will, O Suta, without deliver that I will sent your armor to come for all these and trying to kill him. Did King Susharma had given for a deer. Therefore, do not repeat in an equal opportunity to absence of your blession. When He descends to the presence of Krishna, because the great Dvaraka saw their heads would bring him obtain victory, he inquired from Parashurama's chariots' army and killed his horses the King in Virata's ashrama hand. Arjuna then spoke to Nakula to the troops up in water, \"O Pandava? Now ham I do?  Yudhisthira was unable, and as they came to be laughing desired.\"\n",
      "Duryodhana agreed, \"O Keshava, because you have heard from a time, I want to come here named Sakrata while Satyaki has no mother in battle.\"\n",
      "Hearing the age of Karna's chariot, Drupada replied. \"I am quickly of the Gandharvas, transcendental bloody and woman. That Partha can be peace where of Pandu with so a shaft and sent his head to ashing him to fall to see their troops in hand. What could try to pursue the highest of unconstruction, therefore declaring the imperial countries of the Kurus, they have been leaving to the deluge of the field of battle. Only Lord Krishna, when the son of Arjuna, you should speak amount the battlefield. It was enperial body and while he saw thrown my chariot by a thousand who had engaged in the temporary hearts. I want to destroyer your flame. O Partha, the son of Arjuna, O King, do not see tha anyone wind? Why are you ask that you are inversant to end, I can see our abode in the presence of the tanscendental death. They are related in fact with human Yourself and motives. O mighty-armed, I and Dhritarastra still desired to fight with You. O King, You must accept the superior's leader personality of Lord Krishna. With them to confinitely, do you in all much pillows as meant to take place. With affectionation, Summan, you and how can understand that which the princes of the  Gandharvas would not fear that the present Sikhandi will not be sleep. Abhimanyu had left the power of the Gandiva bow, sent up with deep us and smashed you as deadly that he will kill the mighty Bhima with the exhibitation.\"\n",
      "Lord Krishna replied. \"The death of Jarasandha ran at Uddhava, \"O God, of the Lord of leader, you have lost him from it is not understanding that you trained happiness. Reflecting with a past, Arjuna cannot be seen when you come in a fierce weapon with general, but many men were not difficult foer to exhibit a second in the deed of tour s. You should tried Duryodhana (Shakti), and then will not marry excellent me; they all satisfied Duhshasana. After the Kamyaka warriors had been defeated by the King and carnected for his senses to return how Partha had already been put with many arrows? Mangled with a mighty king, Karna and Ashvatthama has killed up the mighty Karna bow and the two charioteer. He was also set on his charioteer. He astra said his bow to his bow and began to bafflict Karna. Bhima took up his hand, leaving his sheed, the elephant attacked Bhima, and ran at the earth of wealth, speaking that had the one of his heart strong her son. When the child was made finished. With the great warriors shattered, he pierced Bhima with ropes and sent to the Anga battle shafts. Not tolerating those two powerful heroes so from the chariot with his chariot. Bhima then cut it with ten forceful arrows. Bhima then picked up his chariot and killed Kripa's horses that lake. Kritavarman then, kicked up Kratavarman and pierced him with number arrows that countress with many arrows. Along with Duryodhana's son, Bhima sent his horses and charioteer. Standing his stated through the sky, Ashvatthama took out a shower of his chariot, Karna and Ashvatthama. Bhima took another blood and began to dream the other prowess of Laksman's arms, and informed him by Jarasandha, feeling to put the demigods and together, \"O son of Prtha, that happened without sweet expermission this death.\" Dhritarastra then requested her, \"O King, for I\n",
      "--------------------------------------------------\n"
     ]
    }
   ],
   "source": [
    "!python src/generate.py --prompt \"According to the historical records of this earth, there once lived a King named Maharaja\" --max_new_tokens 5000"
   ]
  },
  {
   "cell_type": "code",
   "execution_count": null,
   "metadata": {},
   "outputs": [],
   "source": []
  }
 ],
 "metadata": {
  "kernelspec": {
   "display_name": ".venv",
   "language": "python",
   "name": "python3"
  },
  "language_info": {
   "codemirror_mode": {
    "name": "ipython",
    "version": 3
   },
   "file_extension": ".py",
   "mimetype": "text/x-python",
   "name": "python",
   "nbconvert_exporter": "python",
   "pygments_lexer": "ipython3",
   "version": "3.9.6"
  }
 },
 "nbformat": 4,
 "nbformat_minor": 2
}
