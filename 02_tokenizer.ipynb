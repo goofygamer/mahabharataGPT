{
 "cells": [
  {
   "cell_type": "markdown",
   "metadata": {},
   "source": [
    "# 02_tokenizer.ipynb\n",
    "A simple character-level tokenizer."
   ]
  },
  {
   "cell_type": "code",
   "execution_count": 55,
   "metadata": {},
   "outputs": [],
   "source": [
    "from src import tokenizer"
   ]
  },
  {
   "cell_type": "markdown",
   "metadata": {},
   "source": [
    "## 1. Import the corpus"
   ]
  },
  {
   "cell_type": "code",
   "execution_count": 61,
   "metadata": {},
   "outputs": [
    {
     "name": "stdout",
     "output_type": "stream",
     "text": [
      "File content:\n",
      "Adi Parva\n",
      " \n",
      "Chapter One\n",
      "Maharaja Shantanu Marries the Celestial Ganga\n",
      " \n",
      "According to the historical records of this earth, there once lived a King named Maharaja Shantanu, the son of Pratipa, who took his birth in the solar dynasty and was considered naradeva, the manifest representative of the Supreme Lord on earth. His fame and rule extended to all parts of the world. The qualities of self-control, liberality, forgiveness, intelligence, modesty, patience and power always resided this exalted e\n"
     ]
    }
   ],
   "source": [
    "filename = 'data/mahabharata.txt'\n",
    "with open(filename, 'r') as file:\n",
    "    # Read the entire content of the file\n",
    "    content = file.read()\n",
    "    print(\"File content:\")\n",
    "    print(content[:500])"
   ]
  },
  {
   "cell_type": "code",
   "execution_count": 57,
   "metadata": {},
   "outputs": [
    {
     "data": {
      "text/plain": [
       "1701795"
      ]
     },
     "execution_count": 57,
     "metadata": {},
     "output_type": "execute_result"
    }
   ],
   "source": [
    "# Quite large\n",
    "len(content)"
   ]
  },
  {
   "cell_type": "markdown",
   "metadata": {},
   "source": [
    "## 2. Implementing the tokenizer on the corpus"
   ]
  },
  {
   "cell_type": "code",
   "execution_count": 58,
   "metadata": {},
   "outputs": [
    {
     "data": {
      "text/plain": [
       "{'\\n': 0,\n",
       " ' ': 1,\n",
       " '!': 2,\n",
       " '\"': 3,\n",
       " '$': 4,\n",
       " '%': 5,\n",
       " \"'\": 6,\n",
       " '(': 7,\n",
       " ')': 8,\n",
       " '+': 9,\n",
       " ',': 10,\n",
       " '-': 11,\n",
       " '.': 12,\n",
       " '/': 13,\n",
       " '0': 14,\n",
       " '1': 15,\n",
       " '2': 16,\n",
       " '3': 17,\n",
       " '4': 18,\n",
       " '5': 19,\n",
       " '6': 20,\n",
       " '7': 21,\n",
       " '8': 22,\n",
       " '9': 23,\n",
       " ':': 24,\n",
       " ';': 25,\n",
       " '<': 26,\n",
       " '>': 27,\n",
       " '?': 28,\n",
       " 'A': 29,\n",
       " 'B': 30,\n",
       " 'C': 31,\n",
       " 'D': 32,\n",
       " 'E': 33,\n",
       " 'F': 34,\n",
       " 'G': 35,\n",
       " 'H': 36,\n",
       " 'I': 37,\n",
       " 'J': 38,\n",
       " 'K': 39,\n",
       " 'L': 40,\n",
       " 'M': 41,\n",
       " 'N': 42,\n",
       " 'O': 43,\n",
       " 'P': 44,\n",
       " 'Q': 45,\n",
       " 'R': 46,\n",
       " 'S': 47,\n",
       " 'T': 48,\n",
       " 'U': 49,\n",
       " 'V': 50,\n",
       " 'W': 51,\n",
       " 'Y': 52,\n",
       " '[': 53,\n",
       " '\\\\': 54,\n",
       " ']': 55,\n",
       " '_': 56,\n",
       " 'a': 57,\n",
       " 'b': 58,\n",
       " 'c': 59,\n",
       " 'd': 60,\n",
       " 'e': 61,\n",
       " 'f': 62,\n",
       " 'g': 63,\n",
       " 'h': 64,\n",
       " 'i': 65,\n",
       " 'j': 66,\n",
       " 'k': 67,\n",
       " 'l': 68,\n",
       " 'm': 69,\n",
       " 'n': 70,\n",
       " 'o': 71,\n",
       " 'p': 72,\n",
       " 'q': 73,\n",
       " 'r': 74,\n",
       " 's': 75,\n",
       " 't': 76,\n",
       " 'u': 77,\n",
       " 'v': 78,\n",
       " 'w': 79,\n",
       " 'x': 80,\n",
       " 'y': 81,\n",
       " 'z': 82}"
      ]
     },
     "execution_count": 58,
     "metadata": {},
     "output_type": "execute_result"
    }
   ],
   "source": [
    "mb = tokenizer.CharacterTokenizer(content)\n",
    "mb.stoi # char -> int mapping"
   ]
  },
  {
   "cell_type": "markdown",
   "metadata": {},
   "source": [
    "## 3. Trying the encoder and decoder"
   ]
  },
  {
   "cell_type": "code",
   "execution_count": 59,
   "metadata": {},
   "outputs": [
    {
     "data": {
      "text/plain": [
       "[36,\n",
       " 61,\n",
       " 68,\n",
       " 68,\n",
       " 71,\n",
       " 10,\n",
       " 1,\n",
       " 69,\n",
       " 81,\n",
       " 1,\n",
       " 70,\n",
       " 57,\n",
       " 69,\n",
       " 61,\n",
       " 1,\n",
       " 65,\n",
       " 75,\n",
       " 1,\n",
       " 47,\n",
       " 57,\n",
       " 70,\n",
       " 67,\n",
       " 57,\n",
       " 68,\n",
       " 72,\n",
       " 2]"
      ]
     },
     "execution_count": 59,
     "metadata": {},
     "output_type": "execute_result"
    }
   ],
   "source": [
    "# Encoder\n",
    "mb.encode('Hello, my name is Sankalp!')"
   ]
  },
  {
   "cell_type": "code",
   "execution_count": 60,
   "metadata": {},
   "outputs": [
    {
     "data": {
      "text/plain": [
       "'Hello, my name is Sankalp!'"
      ]
     },
     "execution_count": 60,
     "metadata": {},
     "output_type": "execute_result"
    }
   ],
   "source": [
    "# Decoder\n",
    "mb.decode(mb.encode('Hello, my name is Sankalp!'))"
   ]
  }
 ],
 "metadata": {
  "kernelspec": {
   "display_name": ".venv",
   "language": "python",
   "name": "python3"
  },
  "language_info": {
   "codemirror_mode": {
    "name": "ipython",
    "version": 3
   },
   "file_extension": ".py",
   "mimetype": "text/x-python",
   "name": "python",
   "nbconvert_exporter": "python",
   "pygments_lexer": "ipython3",
   "version": "3.9.6"
  }
 },
 "nbformat": 4,
 "nbformat_minor": 2
}
