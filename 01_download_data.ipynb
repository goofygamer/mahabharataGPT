{
 "cells": [
  {
   "cell_type": "markdown",
   "metadata": {},
   "source": [
    "# 01_download_data.ipynb\n",
    "This file downloads the data. As stated earlier, I am choosing the Mahabharata as the corpus.\n",
    "\n",
    "- Functions : src/utils/`download_data`\n",
    "- Output    : data/mahabharata.txt"
   ]
  },
  {
   "cell_type": "code",
   "execution_count": 5,
   "metadata": {},
   "outputs": [],
   "source": [
    "from src import utils"
   ]
  },
  {
   "cell_type": "markdown",
   "metadata": {},
   "source": [
    "## 1. Function details"
   ]
  },
  {
   "cell_type": "code",
   "execution_count": 6,
   "metadata": {},
   "outputs": [
    {
     "name": "stdout",
     "output_type": "stream",
     "text": [
      "Help on function download_data in module src.utils:\n",
      "\n",
      "download_data(url, data_path)\n",
      "    Downloads a file from a URL to a specified path if it doesn't already exist.\n",
      "    \n",
      "    Args:\n",
      "        url (str): The URL of the file to download.\n",
      "        data_path (str): The local path to save the file to.\n",
      "\n"
     ]
    }
   ],
   "source": [
    "help(utils.download_data)"
   ]
  },
  {
   "cell_type": "markdown",
   "metadata": {},
   "source": [
    "## 2. Data download"
   ]
  },
  {
   "cell_type": "code",
   "execution_count": 3,
   "metadata": {},
   "outputs": [],
   "source": [
    "url=f\"https://raw.githubusercontent.com/rahulnyk/mahabharata/main/text/KaggleTilak/1-18%20books%20combined.txt\"\n",
    "data_path=\"data/mahabharata.txt\""
   ]
  },
  {
   "cell_type": "code",
   "execution_count": 4,
   "metadata": {},
   "outputs": [
    {
     "name": "stdout",
     "output_type": "stream",
     "text": [
      "Data file not found. Downloading from https://raw.githubusercontent.com/rahulnyk/mahabharata/main/text/KaggleTilak/1-18%20books%20combined.txt...\n",
      "Successfully downloaded and saved to data/mahabharata.txt\n"
     ]
    }
   ],
   "source": [
    "utils.download_data(url, data_path)"
   ]
  }
 ],
 "metadata": {
  "kernelspec": {
   "display_name": ".venv",
   "language": "python",
   "name": "python3"
  },
  "language_info": {
   "codemirror_mode": {
    "name": "ipython",
    "version": 3
   },
   "file_extension": ".py",
   "mimetype": "text/x-python",
   "name": "python",
   "nbconvert_exporter": "python",
   "pygments_lexer": "ipython3",
   "version": "3.9.6"
  }
 },
 "nbformat": 4,
 "nbformat_minor": 2
}
